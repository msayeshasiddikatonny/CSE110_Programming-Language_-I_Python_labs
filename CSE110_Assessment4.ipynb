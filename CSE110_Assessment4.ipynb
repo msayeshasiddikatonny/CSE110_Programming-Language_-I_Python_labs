{
  "nbformat": 4,
  "nbformat_minor": 0,
  "metadata": {
    "colab": {
      "name": "CSE110 Assessment4.ipynb",
      "provenance": [],
      "authorship_tag": "ABX9TyPDdlsRuOIu5Xru+IQ9dybD",
      "include_colab_link": true
    },
    "kernelspec": {
      "name": "python3",
      "display_name": "Python 3"
    },
    "language_info": {
      "name": "python"
    }
  },
  "cells": [
    {
      "cell_type": "markdown",
      "metadata": {
        "id": "view-in-github",
        "colab_type": "text"
      },
      "source": [
        "<a href=\"https://colab.research.google.com/github/msayeshasiddikatonny/CSE110_python_labs/blob/main/CSE110_Assessment4.ipynb\" target=\"_parent\"><img src=\"https://colab.research.google.com/assets/colab-badge.svg\" alt=\"Open In Colab\"/></a>"
      ]
    },
    {
      "cell_type": "markdown",
      "metadata": {
        "id": "i6xAu5XiNDu_"
      },
      "source": [
        "𝗤𝘂𝗲𝘀𝘁𝗶𝗼𝗻:\n",
        "Write a function called extractor() that takes a name as a parameter and \n",
        "counts every vowel present in it. The function should also identify and \n",
        "concat the consonants in another string. Finally, RETURN the total number \n",
        "of total vowels present in the name and the consonant string.\n",
        "\n",
        "Note: The name could be a mixture of uppercase & lowercase letters.\n",
        "\n",
        "**Sample Input** 1:\n",
        "Muhaiminul\n",
        "\n",
        "**Function call** 1:\n",
        "extractor(\"Muhaiminul\")\n",
        "\n",
        "**Sample Output** 1:\n",
        "(5, 'mhmnl')\n",
        "\n",
        "**Explanation** 1:\n",
        "Here, in the given name,  we have 5 vowels (uaiiu). That's why 5 in the \n",
        "output. 'mhmnl' are the consonants present in the name.\n",
        "\n",
        "Sample Input 2:\n",
        "iLiyana\n",
        "\n",
        "Function call 2:\n",
        "extractor(\"iLiyana\")\n",
        "\n",
        "Sample Output 2:\n",
        "(4, 'lyn')\n",
        "\n",
        "Explanation 2:\n",
        "Here, in the given name, we have 4 vowels (iiaa). That's why 4 in the \n",
        "output. 'lyn' are the consonants present in the name."
      ]
    },
    {
      "cell_type": "code",
      "metadata": {
        "colab": {
          "base_uri": "https://localhost:8080/"
        },
        "id": "4tD_o80ENBLw",
        "outputId": "330c045c-baad-4a4b-ad9c-abccb03b4f11"
      },
      "source": [
        "def extractor(n):\n",
        "  v=0\n",
        "  c=''\n",
        "  for i in n:\n",
        "    if i in \"aeiou\":\n",
        "      v+=1\n",
        "    else:\n",
        "      c+=i.lower()\n",
        "  return v,c\n",
        "\n",
        "\n",
        "print(extractor(\"Muhaiminul\"))"
      ],
      "execution_count": 1,
      "outputs": [
        {
          "output_type": "stream",
          "text": [
            "(5, 'mhmnl')\n"
          ],
          "name": "stdout"
        }
      ]
    }
  ]
}