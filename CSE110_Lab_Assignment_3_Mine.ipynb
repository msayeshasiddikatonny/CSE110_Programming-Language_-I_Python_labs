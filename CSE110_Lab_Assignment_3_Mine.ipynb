{
  "nbformat": 4,
  "nbformat_minor": 0,
  "metadata": {
    "kernelspec": {
      "display_name": "Python 3",
      "language": "python",
      "name": "python3"
    },
    "language_info": {
      "codemirror_mode": {
        "name": "ipython",
        "version": 3
      },
      "file_extension": ".py",
      "mimetype": "text/x-python",
      "name": "python",
      "nbconvert_exporter": "python",
      "pygments_lexer": "ipython3",
      "version": "3.7.6"
    },
    "colab": {
      "name": "CSE110 Lab Assignment 3_Mine.ipynb",
      "provenance": [],
      "collapsed_sections": [],
      "include_colab_link": true
    }
  },
  "cells": [
    {
      "cell_type": "markdown",
      "metadata": {
        "id": "view-in-github",
        "colab_type": "text"
      },
      "source": [
        "<a href=\"https://colab.research.google.com/github/msayeshasiddikatonny/CSE110_python_labs/blob/main/CSE110_Lab_Assignment_3_Mine.ipynb\" target=\"_parent\"><img src=\"https://colab.research.google.com/assets/colab-badge.svg\" alt=\"Open In Colab\"/></a>"
      ]
    },
    {
      "cell_type": "markdown",
      "metadata": {
        "id": "xDNsncrtU1yM"
      },
      "source": [
        "# CSE110 Lab Assignment 3\n",
        "\n",
        "This Assignment is to help you develop your concept of Strings in Python."
      ]
    },
    {
      "cell_type": "markdown",
      "metadata": {
        "id": "gh4GUDaIU1yO"
      },
      "source": [
        "\n",
        "\n",
        "\n",
        "\n",
        "\n",
        "\n",
        "##Write your name, student ID and CSE110 theory section number below:\n",
        "\n",
        "\n",
        "\n",
        "\n",
        "\n"
      ]
    },
    {
      "cell_type": "code",
      "metadata": {
        "id": "OAYfzLIqgqyE"
      },
      "source": [
        "#STUDENT NAME:Ms.Ayesha Siddika Tonny\n",
        "#STUDENT ID:18301197\n",
        "#CSE110 THEORY SECTION: ST"
      ],
      "execution_count": null,
      "outputs": []
    },
    {
      "cell_type": "markdown",
      "metadata": {
        "id": "KD4EKJf6U1yQ"
      },
      "source": [
        "## Write the code in Python to do the following tasks:\n",
        "\n",
        "**<font color='red'>[MUST MAINTAIN VARIABLE NAMING CONVENTIONS FOR ALL THE TASKS]</font>**\n",
        "\n",
        "\n",
        "### Task 1 \n",
        "\n",
        "Write a Python program that will ask the user to input a string (containing exactly one word). Then your program should print subsequent substrings of the given string as shown in the examples below.\n",
        "\n",
        "=====================================================================\n",
        "\n",
        "**Example 1:**\\\n",
        "Input: BANGLA\\\n",
        "Output:\\\n",
        "B\\\n",
        "BA\\\n",
        "BAN\\\n",
        "BANG\\\n",
        "BANGL\\\n",
        "BANGLA\n",
        "\n",
        "=====================================================================\n",
        "\n",
        "**Example 2:**\\\n",
        "Input: DREAM\\\n",
        "Output:\\\n",
        "D\\\n",
        "DR\\\n",
        "DRE\\\n",
        "DREA\\\n",
        "DREAM\n",
        "\n",
        "=====================================================================\n",
        "\n",
        "**Hints(1):** Need to use \"for loop\" for this task.\n",
        "\n",
        "**Hints(2):** Need to use print() function for printing newlines.\n",
        "\n",
        "For example:\\\n",
        "print(1)\\\n",
        "print(2)\n",
        "\n",
        "Output:\\\n",
        "1\\\n",
        "2\n",
        "\n",
        "=====================================================================\n",
        "\n",
        "We need use print(end = \"\") to skip printing the additional newline.\n",
        "\n",
        "For example:\\\n",
        "print(1, end =\" \")\\\n",
        "print(2)\n",
        "\n",
        "Output:(prints the following output right next to the previous one)\\\n",
        "12\n",
        "\n",
        "=====================================================================\n",
        "\n",
        "\n",
        "\n",
        "\n"
      ]
    },
    {
      "cell_type": "code",
      "metadata": {
        "id": "vJhpmj2XU1yR",
        "colab": {
          "base_uri": "https://localhost:8080/"
        },
        "outputId": "ec5eaf14-b95d-4b07-ad99-10db0fa8a47a"
      },
      "source": [
        "#to do\n",
        " \n",
        "s=input(\"enter a word\")\n",
        "p=''\n",
        "for i in range(0,len(s)):\n",
        "    p=p+s[i]\n",
        "    print(p)\n",
        " \n",
        " \n",
        "\n"
      ],
      "execution_count": null,
      "outputs": [
        {
          "output_type": "stream",
          "text": [
            "enter a wordayesha\n",
            "a\n",
            "ay\n",
            "aye\n",
            "ayes\n",
            "ayesh\n",
            "ayesha\n"
          ],
          "name": "stdout"
        }
      ]
    },
    {
      "cell_type": "markdown",
      "metadata": {
        "id": "pbdeIVcyU1yi"
      },
      "source": [
        "### Task 2\n",
        "\n",
        "Write a Python program that will ask the user to enter a  word as an input. \n",
        "\n",
        "* If the length of the input string is less than 4, then your program should print the same string as an output. \n",
        "* If the input string’s length is greater than 3, then your program should add \"er\" at the end of the input string. \n",
        "* If the input string already ends with \"er\", then add \"est\" instead. \n",
        "* If the input string already ends with \"est\", then your program should print the same input string as an output.\n",
        "\n",
        "=====================================================================\n",
        "\n",
        "**Example 1:**\\\n",
        "Input: strong\\\n",
        "Output: stronger\n",
        "\n",
        "=====================================================================\n",
        "\n",
        "**Example 2:**\\\n",
        "Input: stronger\\\n",
        "Output: strongest\n",
        "\n",
        "=====================================================================\n",
        "\n",
        "**Example 3:**\\\n",
        "Input: strongest\\\n",
        "Output: strongest\n",
        "\n",
        "=====================================================================\n",
        "\n",
        "**Example 4:**\\\n",
        "Input: abc\\\n",
        "Output: abc\n",
        "\n",
        "====================================================================="
      ]
    },
    {
      "cell_type": "code",
      "metadata": {
        "id": "A5df9pmJU1yj"
      },
      "source": [
        "#to do\n",
        "s=input(\"enter a word\")#ayeshaest\n",
        "re=''\n",
        "if len(s)<4:\n",
        "  print(s)\n",
        "if len(s)>3 and s[len(s)-2]!='e' and s[len(s)-1]!='r' and s[len(s)-3]!='e'  and s[len(s)-2]!='s' and s[len(s)-1]!='t':\n",
        "  print(s+\"er\")\n",
        "elif len(s)>3 and s[len(s)-3]=='e'  and s[len(s)-2]=='s' and s[len(s)-1]=='t':\n",
        "  print(s)\n",
        "elif len(s)>3 and s[len(s)-2]=='e' and s[len(s)-1]=='r' :\n",
        "  for i in range(0,len(s)-2):\n",
        "    re=re+s[i]\n",
        "  re=re+\"est\"\n",
        "  print(re)\n"
      ],
      "execution_count": null,
      "outputs": []
    },
    {
      "cell_type": "markdown",
      "metadata": {
        "id": "PsBbgc4YU1yp"
      },
      "source": [
        "### Task 3\n",
        "\n",
        "Write a Python program that will ask the user to input a string (containing exactly one word). Then print the ASCII code for each character in the String using the ord() function. \n",
        "\n",
        "To check if your program is working correctly or not, you can find a list of all correct values from the following website. Look at “Dec” and “Char” columns only, ignore other columns.\\\n",
        "link: http://www.asciitable.com/\n",
        "\n",
        "=====================================================================\n",
        "\n",
        "**Example 1:**\\\n",
        "Input: Programming\\\n",
        "Output:\\\n",
        "P : 80\\\n",
        "r : 114\\\n",
        "o : 111\\\n",
        "g : 103\\\n",
        "r : 114\\\n",
        "a : 97\\\n",
        "m : 109\\\n",
        "m : 109\\\n",
        "i : 105\\\n",
        "n : 110\\\n",
        "g : 103\n",
        "\n",
        "=====================================================================\n",
        "\n",
        "**Example 2:**\\\n",
        "Input: hunger\\\n",
        "Output:\\\n",
        "h : 104\\\n",
        "u : 117\\\n",
        "n : 110\\\n",
        "g : 103\\\n",
        "e : 101\\\n",
        "r : 114 \n",
        "\n",
        "====================================================================="
      ]
    },
    {
      "cell_type": "code",
      "metadata": {
        "id": "r8by7ONZU1ys",
        "colab": {
          "base_uri": "https://localhost:8080/"
        },
        "outputId": "22030c1b-93a6-4d66-dd6f-f8ec44d4f11c"
      },
      "source": [
        "#to do\n",
        "s=input(\"enter a word \") \n",
        "for i in range(0,len(s)):\n",
        "  print(s[i]+\":\"+str(ord(s[i])))\n"
      ],
      "execution_count": null,
      "outputs": [
        {
          "output_type": "stream",
          "text": [
            "enter a word denish\n",
            "d:100\n",
            "e:101\n",
            "n:110\n",
            "i:105\n",
            "s:115\n",
            "h:104\n"
          ],
          "name": "stdout"
        }
      ]
    },
    {
      "cell_type": "markdown",
      "metadata": {
        "id": "O8lIVppgU1yw"
      },
      "source": [
        "### Task 4\n",
        "\n",
        "Take a string as a input from the user with all small letters. Then print the next alphabet in sequence for each alphabet found in the input.\n",
        "\n",
        "=====================================================================\n",
        "\n",
        "\n",
        "*Hint: You need to use functions ord() and chr(). The ASCII value of ‘a’ is 97 and ‘z’ is 122.*\n",
        "\n",
        "=====================================================================\n",
        "\n",
        "**Example 1:**\\\n",
        "Input: abcd\\\n",
        "Output: bcde\n",
        "\n",
        "=====================================================================\n",
        "\n",
        "**Example 2:**\\\n",
        "Input: the cow\\\n",
        "Output: uif!dpx\n",
        "\n",
        "=====================================================================\n",
        "\n",
        "**Example 3: <font color='red'>[Must fulfil this criteria]</font>**\\\n",
        "Input: xyzabc\\\n",
        "Output: yzabcd\n",
        "\n",
        "=====================================================================\n"
      ]
    },
    {
      "cell_type": "code",
      "metadata": {
        "id": "Hyvy8WNNU1yx",
        "colab": {
          "base_uri": "https://localhost:8080/"
        },
        "outputId": "998145d3-7f38-4e35-b7bb-a58b9368394b"
      },
      "source": [
        "#to do\n",
        " \n",
        "s=input(\"enter a word \")\n",
        "s1='' \n",
        "for i in range(0,len(s)):\n",
        "   if s[i]!='z':\n",
        "\n",
        "      s1+=chr(ord(s[i])+1)\n",
        "   else:\n",
        "     s1+='a'\n",
        "print(s1)"
      ],
      "execution_count": null,
      "outputs": [
        {
          "output_type": "stream",
          "text": [
            "enter a word denish\n",
            "efojti\n"
          ],
          "name": "stdout"
        }
      ]
    },
    {
      "cell_type": "markdown",
      "metadata": {
        "id": "leVtdAsdymXM"
      },
      "source": [
        "### Task 5\n",
        "\n",
        "Write a Python program that will ask the user to enter two strings (s1, s2) as an input. Then create a mixed string with alternative characters from each string. Any leftover chars will be appended at the end of the resulting string.\n",
        "\n",
        "=====================================================================\n",
        "\n",
        "*Hint: For adding the leftover characters you may use string slicing.*\n",
        "\n",
        "=====================================================================\n",
        "\n",
        "**Example 1:**\\\n",
        "Input:\\\n",
        "\"ABCD\"\\\n",
        "\"efgh\"\n",
        "\n",
        "Output:\\\n",
        "AeBfCgDh\n",
        "\n",
        "=====================================================================\n",
        "\n",
        "**Example 2:**\\\n",
        "Input:\\\n",
        "\"ABCDENDFGH\"\\\n",
        "\"ijkl\"\n",
        "\n",
        "Output:\\\n",
        "AiBjCkDlENDFGH\n",
        "\n",
        "=====================================================================\n",
        "\n",
        "**Example 3:**\\\n",
        "Input:\\\n",
        "\"ijkl\"\\\n",
        "\"ABCDENDFGH\"\n",
        "\n",
        "Output:\\\n",
        "iAjBkClDENDFGH\n",
        "\n",
        "=====================================================================\n"
      ]
    },
    {
      "cell_type": "code",
      "metadata": {
        "id": "kC1cq47myny6",
        "colab": {
          "base_uri": "https://localhost:8080/"
        },
        "outputId": "139053a0-7ee2-4df0-81a8-7d9c06775f55"
      },
      "source": [
        "#todo\n",
        "#todo\n",
        "s1=input(\"enter s1\") \n",
        "s2=input(\"enter s2\") \n",
        "result=''\n",
        "if len(s1)==len(s2):\n",
        "      for i in range(0,len(s1)):\n",
        "        result=result+s1[i]+s2[i]\n",
        "elif len(s2)>len(s1): \n",
        "\n",
        "      for i in range(0,len(s1)):\n",
        "        result=result+s1[i]+s2[i]\n",
        "      print(result)\n",
        "\n",
        "      for j in range(len(s1),len(s2)): \n",
        "        result=result+s2[j]\n",
        "else:\n",
        "      for i in range(0,len(s2)):\n",
        "        result=result+s1[i]+s2[i]\n",
        "      print(result)\n",
        "\n",
        "      for j in range(len(s2),len(s1)): \n",
        "        result=result+s1[j]\n",
        "print(result)"
      ],
      "execution_count": null,
      "outputs": [
        {
          "output_type": "stream",
          "text": [
            "enter s1isd\n"
          ],
          "name": "stdout"
        }
      ]
    },
    {
      "cell_type": "markdown",
      "metadata": {
        "id": "AWQJrJW3U1y3"
      },
      "source": [
        "### Task 6\n",
        "Given a string, create a new string with all the consecutive duplicates **removed**. \n",
        "\n",
        "=====================================================================\n",
        "\n",
        "**Hint:** You may make a new string to store the result. You can check whether the current character and the next character are the same, then add that character to the new string.\n",
        "\n",
        "=====================================================================\n",
        "\n",
        "\n",
        "**Sample Input**:\\\n",
        "AAABBBBCDDBBECE\n",
        "\n",
        "**Sample Output:**\\\n",
        "ABCDBECE\n",
        "\n",
        "=====================================================================\n"
      ]
    },
    {
      "cell_type": "code",
      "metadata": {
        "id": "oNv_JNgUU1y4",
        "colab": {
          "base_uri": "https://localhost:8080/"
        },
        "outputId": "93fdd41b-62a7-4807-c6f3-161dc768ea5f"
      },
      "source": [
        "#to do\n",
        "s=input(\"enter a word \")#A AA B BBB CDDBBECE\n",
        "s1=''\n",
        "s1=s1+s[0]\n",
        "\n",
        "for i in range(1,len(s)):\n",
        "   if s[i]== s[i-1]:\n",
        "     pass\n",
        "   else:\n",
        "     s1+=s[i]\n",
        "print(s1)\n"
      ],
      "execution_count": null,
      "outputs": [
        {
          "output_type": "stream",
          "text": [
            "enter a word AAABBBBCDDBBECE\n",
            "ABCDBECE\n"
          ],
          "name": "stdout"
        }
      ]
    },
    {
      "cell_type": "markdown",
      "metadata": {
        "id": "4zI6tmFN0i4y"
      },
      "source": [
        "### Task 7\n",
        "\n",
        "Write a python program that takes 2 inputs from the user, where the first input is a string with length greater than 1. The second input is the index of the first given string from where you have to start reversing. Then print the new string back to the user.\n",
        "\n",
        "=====================================================================\n",
        "\n",
        "**Sample Input 1:**\n",
        "\n",
        "72418\n",
        "\n",
        "4\n",
        "\n",
        "**Sample Output 1:**\n",
        "\n",
        "81427\n",
        "\n",
        "\n",
        "**Explanation**: Our second input, index '4' is the last index of our first input String '72418', hence the entire string is reversed giving us '81427'.\n",
        "\n",
        "=====================================================================\n",
        "\n",
        "**Sample Input 2:**\n",
        "\n",
        "12345 \n",
        "\n",
        "2\n",
        "\n",
        "**Sample Output 2:**\n",
        "\n",
        "32145\n",
        "\n",
        "**Explanation**: The second input is '2' so we have to reverse from index 2 of our first input. The 2nd index of our first input String is '3', index 1 is '2' and index 0 is '1'. Hence, if we reverse indexes 0 to 2, we get '321'. Index 3 and 4 which is '4' and '5' respectively remains unchanged hence our final output is '32145'.\n",
        "\n",
        "=====================================================================\n",
        "\n",
        "**Sample Input 3:**\n",
        "\n",
        "aBcd1234defg\n",
        "\n",
        "5\n",
        "\n",
        "**Sample Output 3:**\n",
        "\n",
        "21dcBa34defg\n",
        "\n",
        "**Explanation**: From our first input String 'aBcd1234defg', \n",
        "\n",
        "index 0 = 'a'\n",
        "\n",
        "index 1 = 'B'\n",
        "\n",
        "index 2 = 'c'\n",
        "\n",
        "index 3 = 'd'\n",
        "\n",
        "index 4 = '1'\n",
        "\n",
        "index 5 = '2'\n",
        "\n",
        "index 6 = '3'\n",
        "\n",
        "Since our second input is 5, index 0 to index 5 is reversed and we have '21dcBa' and the rest is unchanged from indexes 6 to 11 ('34defg'). Therefore, we have '21dcBa34defg' finally.\n",
        "\n",
        "=====================================================================\n"
      ]
    },
    {
      "cell_type": "code",
      "metadata": {
        "id": "NoqaHxEq81np",
        "colab": {
          "base_uri": "https://localhost:8080/"
        },
        "outputId": "8a198d22-3cb0-451d-bfe8-7a61ce999c45"
      },
      "source": [
        "#to do\n",
        "s=input(\"enter a string\")\n",
        "n=int(input(\"enter a valid index\"))\n",
        "result=''\n",
        "for i in range(n,-1,-1):\n",
        "     result+=s[i]\n",
        "for i in range(n+1,len(s)):\n",
        "     result+=s[i]\n",
        "print(result)"
      ],
      "execution_count": null,
      "outputs": [
        {
          "output_type": "stream",
          "text": [
            "enter a string72418\n",
            "enter a valid index4\n",
            "81427\n"
          ],
          "name": "stdout"
        }
      ]
    },
    {
      "cell_type": "markdown",
      "metadata": {
        "id": "G1KGod9C87t_"
      },
      "source": [
        "### Task 8\n",
        "\n",
        "Write a python program that splits a given string on a given split character. The first input is a String and the second input is the character that will be used to split the first String. <font color='red'>[You cannot use the built-in split function]</font>\n",
        "\n",
        "=====================================================================\n",
        "\n",
        "**Sample Input 1:**<br/>\n",
        "This-is-CSE110<br/>\n",
        "-<br/>\n",
        "\n",
        "**Sample Output 1:**<br/>\n",
        "This<br/>\n",
        "is<br/>\n",
        "CSE110\n",
        "\n",
        "**Explanation**: The second input which is the character '-', is used to split or divide the first input String 'This-is-CSE110' into 'This', 'is' and 'CSE110' which are printed individually in seperate lines.\n",
        "\n",
        "=====================================================================\n",
        "\n",
        "**Sample Input 2**:\n",
        "tom@gmail,harry@yahoo,bob@gmail,mary@gmail\n",
        "\n",
        ",\n",
        "\n",
        "**Sample Output 2**:\n",
        "\n",
        "tom@gmail\n",
        "\n",
        "harry@yahoo\n",
        "\n",
        "bob@gmail\n",
        "\n",
        "mary@gmail\n",
        "\n",
        "====================================================================="
      ]
    },
    {
      "cell_type": "code",
      "metadata": {
        "id": "A9zuROkY9qre",
        "colab": {
          "base_uri": "https://localhost:8080/"
        },
        "outputId": "c9f43f87-8fee-4643-9f32-9733bb61a996"
      },
      "source": [
        "#to do\n",
        "s=input(\"enter a string\")\n",
        "re=''\n",
        "for i in s:\n",
        "  if i =='-' or i==',':\n",
        "    #print(i+\" it is i\")\n",
        "    print(re)\n",
        "    re=''\n",
        "  else:\n",
        "    re+=i\n",
        "print(re)"
      ],
      "execution_count": null,
      "outputs": [
        {
          "output_type": "stream",
          "text": [
            "enter a stringThis-is-CSE110\n",
            "This\n",
            "is\n",
            "CSE110\n"
          ],
          "name": "stdout"
        }
      ]
    },
    {
      "cell_type": "markdown",
      "metadata": {
        "id": "lPoDvm8YU1y9"
      },
      "source": [
        "### Task 9\n",
        "\n",
        "Suppose you are given two strings, s1, and s2. Now, print a new string made up of the last characters and then the first characters of the input strings.\n",
        "\n",
        "=====================================================================\n",
        "\n",
        "**Sample Input 1**:\n",
        "\n",
        "s1 = new\n",
        "\n",
        "s2= string\n",
        "\n",
        "**Sample Output 1**:\n",
        "\n",
        "gwsn\n",
        "\n",
        "**Explanation:** The last character of the String s2 is 'g'. The last character of the String s1 is 'w'. The first character of the String s2 is 's'. The first character of the String s1 is 'n'. Together they give us the ouput we want 'gwsn'.\n",
        "\n",
        "=====================================================================\n",
        "\n",
        "**Sample Input 2**:\n",
        "\n",
        "s1 = abcd\n",
        "\n",
        "s2= efgh\n",
        "\n",
        "**Sample Output 2**: \n",
        "\n",
        "hdea\n",
        "\n",
        "**Explanation:** The last characters of the Strings s2 and s1 is 'h' and 'd' respectively while the first characters of the Strings is 'e' and 'a' respectively. Together they give us the ouput we want 'gwsn'.\n",
        "\n",
        "=====================================================================\n"
      ]
    },
    {
      "cell_type": "code",
      "metadata": {
        "id": "z26BN9B3U1y_",
        "colab": {
          "base_uri": "https://localhost:8080/"
        },
        "outputId": "3b268cbd-a0fc-44b2-d7c5-7109913d1a8f"
      },
      "source": [
        "#to do\n",
        "s1=input(\"enter a word \")\n",
        "s2=input(\"enter a word \")\n",
        "print(s2[len(s2)-1]+s1[len(s1)-1]+s2[0]+s1[0])\n",
        " "
      ],
      "execution_count": null,
      "outputs": [
        {
          "output_type": "stream",
          "text": [
            "enter a word abcd\n",
            "enter a word efgh\n",
            "hdea\n"
          ],
          "name": "stdout"
        }
      ]
    },
    {
      "cell_type": "markdown",
      "metadata": {
        "id": "ZrjtT-I_U1zD"
      },
      "source": [
        "### Task 10\n",
        "\n",
        "Write a Python program that takes a String as input from the user, removes the characters at even index and prints the resulting String in uppercase.\n",
        "\n",
        "=====================================================================\n",
        "\n",
        "**Sample Input 1**:\n",
        "\n",
        "String\n",
        "\n",
        "**Sample Output 1**: \n",
        "\n",
        "TIG\n",
        "\n",
        "**Explanation**: The characters 'S', 'r' and 'n' are at index positions 0, 2, and 4 respectively. Hence they are removed and the remaining characters 'tig' are capitalized giving us output 'TIG'.\n",
        "\n",
        "=====================================================================\n",
        "\n",
        "**Sample Input 2**:\n",
        "\n",
        "abcd\n",
        "\n",
        "**Sample Output 2**: \n",
        "\n",
        "BD\n",
        "\n",
        "=====================================================================\n"
      ]
    },
    {
      "cell_type": "code",
      "metadata": {
        "id": "3r7Ripj7U1zE",
        "colab": {
          "base_uri": "https://localhost:8080/"
        },
        "outputId": "3dafa60e-fdbf-427e-fee7-57db83eeea22"
      },
      "source": [
        "#to do\n",
        "s=input(\"enter a word \")\n",
        "s1=''\n",
        "for i in range(0,len(s)):\n",
        "  if i%2==0:\n",
        "    pass\n",
        "  else:\n",
        "    s1+=s[i]\n",
        "print(s1.upper())"
      ],
      "execution_count": null,
      "outputs": [
        {
          "output_type": "stream",
          "text": [
            "enter a word abcd\n",
            "BD\n"
          ],
          "name": "stdout"
        }
      ]
    },
    {
      "cell_type": "markdown",
      "metadata": {
        "id": "AWgZaBZCzmaM"
      },
      "source": [
        "### Task 11\n",
        "\n",
        "Write a python program that takes two inputs. The first input is a string and the second input is a number. If the number is even then concatenate the given string two times the given number and if the number is odd then concatenate the given string three times the given number.\n",
        "\n",
        "=====================================================================\n",
        "\n",
        "**Sample Input 1**:\n",
        "\n",
        "CSE110\n",
        "\n",
        "4\n",
        "\n",
        "**Sample output 1**:\n",
        "\n",
        "CSE110CSE110CSE110CSE110CSE110CSE110CSE110CSE110\n",
        "\n",
        "**Explanation**: The second input which is the number 4 is even, therefore the first string input 'CSE110' is concatenated(joined together) 4*2 = 8 times.\n",
        "\n",
        "=====================================================================\n",
        "\n",
        "**Sample Input 2**:\n",
        "\n",
        "CSE110\n",
        "\n",
        "3\n",
        "\n",
        "**Sample Output 2**:\n",
        "\n",
        "CSE110CSE110CSE110CSE110CSE110CSE110CSE110CSE110CSE110\n",
        "\n",
        "=====================================================================\n"
      ]
    },
    {
      "cell_type": "code",
      "metadata": {
        "id": "ICW-03YOznTp",
        "colab": {
          "base_uri": "https://localhost:8080/"
        },
        "outputId": "12e39317-d81b-4c87-b8b8-146c20b50bb7"
      },
      "source": [
        "#to do\n",
        "s=input(\"enter a string\")\n",
        "n=int(input(\"enter a number\"))\n",
        "if n%2==0:\n",
        "  print(s*(n*2))\n",
        "else:\n",
        "  print(s*(n*3))\n"
      ],
      "execution_count": null,
      "outputs": [
        {
          "output_type": "stream",
          "text": [
            "enter a stringCSE11\n",
            "enter a number1\n",
            "CSE11CSE11CSE11\n"
          ],
          "name": "stdout"
        }
      ]
    },
    {
      "cell_type": "markdown",
      "metadata": {
        "id": "7a_1pYjfU1zI"
      },
      "source": [
        "### Task 12\n",
        "\n",
        "Write a python program that takes 2 inputs from the user. The first input is a string and the second input is a letter. The program should remove all occurences of the letter from the given string and print the output. If the letter is not found in the string and the length of string is greater than 3, then remove the first letter and last letter of the given string and print it. Otherwise print the string as it is. [You can assume that all the input will be in lowercase letter]\n",
        "\n",
        "=====================================================================\n",
        "\n",
        "\n",
        "**Sample Input 1**:\n",
        " \n",
        "tanjiro kamado\n",
        "\n",
        "a\n",
        "\n",
        "**Sample output 1**:\n",
        "\n",
        "tnjiro kmdo\n",
        "\n",
        "**Explanation**: All 3 instances of the character 'a' is removed from the input String 'tanjiro kamado' to give us output 'tnjiro kmdo'.\n",
        "\n",
        "=====================================================================\n",
        "\n",
        "**Sample Input 2**:\n",
        "\n",
        "eren yeager\n",
        "\n",
        "k\n",
        "\n",
        "\n",
        "**Sample Output 2**:\n",
        "\n",
        "ren yeage\n",
        "\n",
        "**Explanation**: The character 'k' is absent in the first input String 'eren yeager' and it's length is 11 which is greater than 3 therefore the first character 'e' and the last character 'r' is removed. Hence, the final String is 'ren yeage'.\n",
        "\n",
        "=====================================================================\n",
        "\n",
        "Sample Input 3:\n",
        "\n",
        "hi\n",
        "\n",
        "a\n",
        "\n",
        "Sample Output 3:\n",
        "\n",
        "hi\n",
        "\n",
        "**Explanation**: The letter 'a' is not found in our first input 'hi', the length of which is 2. Since the character is not present and the length is less than 3, we print the String 'hi' as it is.\n",
        "\n",
        "=====================================================================\n"
      ]
    },
    {
      "cell_type": "code",
      "metadata": {
        "id": "vToa7yazU1zI",
        "colab": {
          "base_uri": "https://localhost:8080/"
        },
        "outputId": "44b7efbc-921e-4e83-864c-11ec3780ee04"
      },
      "source": [
        "#to do\n",
        "s1=input(\"enter a string \")\n",
        "s2=input(\"enter a letter \")\n",
        "result=''\n",
        "if not s2  in s1  and len(s1)>3:\n",
        "  print(s1[1:len(s1)-1])\n",
        "elif s2 in s1:\n",
        "  for i in s1:\n",
        "    if i==s2:\n",
        "      pass\n",
        "    else:\n",
        "      result+=i\n",
        "  print(result)\n",
        "else:\n",
        "  print(s1)\n",
        "'''\n",
        "s='enter a string'\n",
        "c='b'\n",
        "result=''\n",
        "if c in s:\n",
        "    for i in s: \n",
        "        if  i==c:\n",
        "            #pass\n",
        "            result+=\" \"\n",
        "        else:\n",
        "            result+=i\n",
        "    print(result)\n",
        "    #print('12')\n",
        "elif len(s)>3:\n",
        "    print(s[1:len(s)-1])\n",
        "    #print('15')\n",
        "else:\n",
        "    print(s)\n",
        "    #print('18')\n",
        "'''"
      ],
      "execution_count": null,
      "outputs": [
        {
          "output_type": "stream",
          "text": [
            "enter a string hi\n",
            "enter a letter a\n",
            "hi\n"
          ],
          "name": "stdout"
        }
      ]
    },
    {
      "cell_type": "markdown",
      "metadata": {
        "id": "WZXnxHTdGrMC"
      },
      "source": [
        "## Optional Tasks (13 - 15) [Ungraded]"
      ]
    },
    {
      "cell_type": "markdown",
      "metadata": {
        "id": "nwRZ3_0tC3fq"
      },
      "source": [
        "### Task 13\n",
        "\n",
        "\n",
        "Write a python program that takes a string as an input from the user and then modifies the string in such a way that the string always starts with an uppercase letter and the case of each subsequent letter is the opposite of the previous letter (uppercase character followed by a lowercase character followed by an uppercase character and so on).  Finally the modified string is printed to show the user.\n",
        "\n",
        "*Hints:  Flags/counters can be used to manage uppercase-lowercase.*\n",
        "\n",
        "=====================================================================\n",
        "\n",
        "**Sample Input 1:**\\\n",
        "Python programming is very easy\n",
        "\n",
        "**Sample Output 1:**\\\n",
        "PyThOn PrOgRaMmInG iS vErY eAsY\n",
        "\n",
        "=====================================================================\n",
        "\n",
        "**Sample Input 2:**\\\n",
        "I&nbsp;&nbsp;&nbsp;&nbsp;&nbsp;&nbsp;     love       &nbsp;&nbsp;&nbsp;&nbsp;&nbsp;&nbsp;&nbsp; Python &nbsp;&nbsp;&nbsp;&nbsp;&nbsp;&nbsp;&nbsp;&nbsp;Programming\n",
        "\n",
        "**Sample Output 2:**\\\n",
        "I&nbsp;&nbsp;&nbsp;&nbsp;&nbsp;&nbsp;     lOvE       &nbsp;&nbsp;&nbsp;&nbsp;&nbsp;&nbsp;&nbsp;pYtHoN&nbsp;&nbsp;&nbsp;&nbsp;&nbsp;&nbsp;&nbsp;&nbsp;pRoGrAmMiNg\n",
        "\n",
        "=====================================================================\n",
        "\n",
        "**Sample Input 3:**\\\n",
        "CSE110 Course\n",
        "\n",
        "**Sample Output 3**\\\n",
        "CsE110 cOuRsE\n",
        "\n",
        "\n",
        "\n",
        "=====================================================================\n",
        "\n",
        "**Sample Input 4:**\\\n",
        "c\n",
        "\n",
        "**Sample Output 4:**\\\n",
        "C\n",
        "\n",
        "=====================================================================\n"
      ]
    },
    {
      "cell_type": "code",
      "metadata": {
        "id": "LEnaTlyoMJdS",
        "colab": {
          "base_uri": "https://localhost:8080/"
        },
        "outputId": "7c0bff80-fd14-4ac0-da12-48b1267066a3"
      },
      "source": [
        "#to do\n",
        "s=input('enter a string')\n",
        "flag=0\n",
        "re=''\n",
        "for i in range (0,len(s)):\n",
        "   if s[i] !=\" \":\n",
        "         if i==0  or flag==0:\n",
        "            re=re+s[i].upper()\n",
        "            flag=1\n",
        "         elif flag==1:\n",
        "            re=re+s[i].lower()\n",
        "            flag=0\n",
        "         else:\n",
        "            pass\n",
        "   else:\n",
        "      re=re+' '\n",
        "  \n",
        "print(re)"
      ],
      "execution_count": null,
      "outputs": [
        {
          "output_type": "stream",
          "text": [
            "enter a stringI       love         Python         Programming\n",
            "I       lOvE         pYtHoN         pRoGrAmMiNg\n"
          ],
          "name": "stdout"
        }
      ]
    },
    {
      "cell_type": "markdown",
      "metadata": {
        "id": "EEkcqbIJBKel"
      },
      "source": [
        "### Task 14 \n",
        "An anagram is a play on words created by rearranging the letters of the original word to make a new word or phrase.\n",
        "So we can say two words are anagrams if they contain all of the same letters, but in a different order.\n",
        "\n",
        "\n",
        "Write a python program that takes two strings from the user and tells if they are anagram or not.\n",
        "\n",
        "=====================================================================\n",
        "\n",
        "<b>Sample Input 1: </b><br/>\n",
        "dusty<br/>\n",
        "study<br/>\n",
        "<b>Sample Output 1: </b> <br/>\n",
        "They are anagram<br/>\n",
        "\n",
        "=====================================================================\n",
        "\n",
        "<b>Sample Input 2: </b><br/>\n",
        "dustyyy<br/>\n",
        "study<br/>\n",
        "<b>Sample Output 2: </b><br/>\n",
        "They are not anagram"
      ]
    },
    {
      "cell_type": "code",
      "metadata": {
        "id": "dvjY9pE2BLVT",
        "colab": {
          "base_uri": "https://localhost:8080/"
        },
        "outputId": "fc65bd03-580a-44c5-9869-bcadcd5a61f8"
      },
      "source": [
        "# to do\n",
        "s1=input('enter a string')\n",
        "s2=input('enter a string')\n",
        "s1=sorted(s1)\n",
        "s2=sorted(s2)\n",
        "if len(s1)==len(s2):\n",
        "  for i in range (0,len(s1)):\n",
        "    if s1[i]==s2[i]:\n",
        "      pass\n",
        "    else:\n",
        "      print(\"They are not anagram\")\n",
        "      break\n",
        "  print(\"They are anagram\")\n",
        "else:\n",
        "      print(\"They are not anagram\")"
      ],
      "execution_count": null,
      "outputs": [
        {
          "output_type": "stream",
          "text": [
            "enter a stringdustyyy\n",
            "enter a stringstudy\n",
            "They are not anagram\n"
          ],
          "name": "stdout"
        }
      ]
    },
    {
      "cell_type": "markdown",
      "metadata": {
        "id": "sHeGC4Tf7z81"
      },
      "source": [
        "###Task 15\n",
        "\n",
        "Write a python program thats prints the largest consecutive sequence from a given string S. For example, if S = ‘AABBBCCAAAA’, print ‘AAAA’. If more than one largest consecutive sequence exists, print the first one. Print NONE if no consecutive sequence is found.\n",
        "\n",
        "=====================================================================\n",
        "\n",
        "**Sample Input 1:**<br/>\n",
        "AABBBCCAAAA<br/>\n",
        "**Sample Output 1:**<br/>\n",
        "AAAA<br/>\n",
        "\n",
        "=====================================================================\n",
        "\n",
        "**Sample Input 2:**<br/>\n",
        "AABBCC<br/>\n",
        "**Sample Output 2:**<br/>\n",
        "AA<br/>\n",
        "\n",
        "=====================================================================\n",
        "\n",
        "**Sample Input 3:**<br/>\n",
        "ABCD<br/>\n",
        "**Sample Output 3:**<br/>\n",
        "NONE<br/>\n",
        "\n",
        "====================================================================="
      ]
    },
    {
      "cell_type": "code",
      "metadata": {
        "id": "lModRb2L0oqS"
      },
      "source": [
        "#to do\n"
      ],
      "execution_count": null,
      "outputs": []
    }
  ]
}