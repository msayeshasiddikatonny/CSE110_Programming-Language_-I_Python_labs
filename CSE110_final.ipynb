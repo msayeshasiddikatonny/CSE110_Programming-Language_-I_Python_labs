{
  "nbformat": 4,
  "nbformat_minor": 0,
  "metadata": {
    "colab": {
      "name": "CSE110 final.ipynb",
      "provenance": [],
      "authorship_tag": "ABX9TyMBXjGzMxQIcKd7rSqDS9jm",
      "include_colab_link": true
    },
    "kernelspec": {
      "name": "python3",
      "display_name": "Python 3"
    },
    "language_info": {
      "name": "python"
    }
  },
  "cells": [
    {
      "cell_type": "markdown",
      "metadata": {
        "id": "view-in-github",
        "colab_type": "text"
      },
      "source": [
        "<a href=\"https://colab.research.google.com/github/msayeshasiddikatonny/CSE110_python_labs/blob/main/CSE110_final.ipynb\" target=\"_parent\"><img src=\"https://colab.research.google.com/assets/colab-badge.svg\" alt=\"Open In Colab\"/></a>"
      ]
    },
    {
      "cell_type": "markdown",
      "metadata": {
        "id": "HVQ0A35eqT1w"
      },
      "source": [
        "𝗤𝘂𝗲𝘀𝘁𝗶𝗼𝗻 1 (10 Marks):\n",
        "Write a python program that asks the user for a range (a starting \n",
        "number(inclusive) and an ending number(inclusive)) and checks the \n",
        "divisibility of all the numbers within that range. Then construct a \n",
        "dictionary with keys “Divisible by 3”, “Divisible by 5”, “Divisible by 7”, \n",
        "and “None”, with values as lists of elements satisfying the respective \n",
        "condition. Finally, print the dictionary.\n",
        "\n",
        "Sample Input 1:\n",
        "1\n",
        "15\n",
        "Sample Output 1:\n",
        "{'None': [1, 2, 4, 8, 11, 13], 'Divisible by 3': [3, 6, 9, 12, \n",
        "15], 'Divisible by 5': [5, 10, 15], 'Divisible by 7': [7, 14]}\n",
        "\n",
        "Explanation1:\n",
        "3, 6, 9, 12, and 15 are divisible by 3, so they belong to the key named \n",
        "“Divisible by 3”. 5, 10 and 15 are divisible by 5, so they belong to the \n",
        "key named “Divisible by 5”. 7 and 14 are divisible by 7, so they belong to \n",
        "the key named “Divisible by 7”. 1, 2, 4, 8, 11, and 13 are not divisible by \n",
        "3, 5 or 7, so it belongs to the key named “None”.\n",
        "\n",
        "================================================\n",
        "\n",
        "Sample Input 2:\n",
        "22\n",
        "27\n",
        "Sample Output 2:\n",
        "{'None': [22, 23, 26], 'Divisible by 3': [24, 27], 'Divisible by 5': [25]}\n",
        "\n",
        "Explanation2:\n",
        "24, and 27 are divisible by 3, so they belong to the key named “Divisible \n",
        "by 3”. 25 is divisible by 5, so they belong to the key named “Divisible by \n",
        "5”. 22, 23, and 26 are not divisible by 3, 5 or 7, so it belongs to the key \n",
        "named “None”. There is no number which is divisible by 7, so that key is \n",
        "missing from the output.\n",
        "\n"
      ]
    },
    {
      "cell_type": "code",
      "metadata": {
        "colab": {
          "base_uri": "https://localhost:8080/"
        },
        "id": "x2g3f-gTqVqP",
        "outputId": "eafc27d8-42f9-4610-e0df-e409881bfb17"
      },
      "source": [
        "a=int(input(\"enter start\"))\n",
        "b=int(input(\"enter end\"))\n",
        "d={'None':[]}\n",
        "for i in range (a,b+1):\n",
        "  if i % 3==0:\n",
        "    if 'Divisible by 3' not in d:\n",
        "      d['Divisible by 3']=[i]\n",
        "    else:\n",
        "      d['Divisible by 3'].append(i)\n",
        "  if i % 5==0:\n",
        "    if 'Divisible by 5' not in d:\n",
        "      d['Divisible by 5']=[i]\n",
        "    else:\n",
        "      d['Divisible by 5'].append(i)\n",
        "  if i % 7==0:\n",
        "    if 'Divisible by 7' not in d:\n",
        "      d['Divisible by 7']=[i]\n",
        "    else:\n",
        "      d['Divisible by 7'].append(i)\n",
        "\n",
        "  if i % 3!=0  and i%5!=0 and i%7!=0:\n",
        "     \n",
        "      d['None'].append(i)\n",
        "print(d)"
      ],
      "execution_count": 2,
      "outputs": [
        {
          "output_type": "stream",
          "text": [
            "enter start22\n",
            "enter end27\n",
            "{'None': [22, 23, 26], 'Divisible by 3': [24, 27], 'Divisible by 5': [25]}\n"
          ],
          "name": "stdout"
        }
      ]
    },
    {
      "cell_type": "markdown",
      "metadata": {
        "id": "6QN87paVqo94"
      },
      "source": [
        "𝗤𝘂𝗲𝘀𝘁𝗶𝗼𝗻 2 (5 Marks):\n",
        "Write a python function that takes a list as a parameter. The list consists \n",
        "of scores of 3 sections of the IELTS exam (reading, writing, and speaking \n",
        "in the exact order). The valid score for each section is from 0(inclusive) \n",
        "to 9(inclusive). Thus the valid range of the IELTS average score is from \n",
        "0(inclusive) to 9(inclusive). Then your function should return the average \n",
        "of the given scores as well as the information according to the provided \n",
        "conditions below. Then, finally print the returned values in the function \n",
        "call.\n",
        "If the average score is Less than 6, then return “Retake the exam”.\n",
        "If the average score is Greater than 5 and less than 8, then return “Good \n",
        "user”.\n",
        "If the average score is Equal to 8, then return “Very good user”.\n",
        "If the average score is Above 8, then return “Expert user”.\n",
        "For any invalid inputs (out of valid range), return “Impossible score!!”.\n",
        "\n",
        "==========================================\n",
        "Sample input 1:\n",
        "8, 7, 6\n",
        "Function Call1:\n",
        "function_name([8, 7, 6 ])\n",
        "Sample Output:\n",
        "(7.0, 'Good user')\n",
        "Explanation1:\n",
        "Here, reading = 8, writing = 7, and speaking = 6. average= (8+7+6)/3 is 7.0 \n",
        "which falls under the “Greater than 5 and less than 8” section, so returns \n",
        "“Good user”.\n",
        "\n",
        "==========================================\n",
        "Sample input2:\n",
        "8, 10, 6\n",
        "Function Call2:\n",
        "function_name([8, 10, 6 ])\n",
        "Sample Output2:\n",
        "Impossible score!!\n",
        "Explanation2:\n",
        "10 does not fall under the valid range of 0 to 9. Thus it returns \n",
        "“Impossible score!!”"
      ]
    },
    {
      "cell_type": "code",
      "metadata": {
        "colab": {
          "base_uri": "https://localhost:8080/"
        },
        "id": "lcQqScO9tVK4",
        "outputId": "40401411-c16e-40dd-c5c8-6b9f1df1046f"
      },
      "source": [
        " \n",
        "def calScore(l):\n",
        "  s=0\n",
        "  \n",
        "  for i in l:\n",
        "    if  i>-1 and i<10:\n",
        "      s+=i\n",
        "      \n",
        "    else :\n",
        "       return \"Impossible score!!\"\n",
        "  a= s/3\n",
        "   \n",
        "  if a<6:\n",
        "    return a,\"Retake the exam\"\n",
        "  \n",
        "  if 5< a  and a < 8:\n",
        "    return a,\"Good user\"\n",
        "  if a==8:\n",
        "    return a,\"Very good user\"\n",
        "\n",
        "  if a>8:\n",
        "    return a,\"Expert user\"\n",
        "\n",
        "\n",
        "l=[]\n",
        "for i in range (1,4):\n",
        "  l.append(int(input(\"enter score\")))\n",
        " \n",
        "print(calScore(l))\n",
        " \n",
        " \n",
        "\n",
        " "
      ],
      "execution_count": 17,
      "outputs": [
        {
          "output_type": "stream",
          "text": [
            "enter score8\n",
            "enter score10\n",
            "enter score6\n",
            "Impossible score!!\n"
          ],
          "name": "stdout"
        }
      ]
    }
  ]
}