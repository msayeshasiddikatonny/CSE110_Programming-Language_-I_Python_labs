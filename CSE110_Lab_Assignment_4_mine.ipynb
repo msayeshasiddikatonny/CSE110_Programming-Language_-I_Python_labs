{
  "nbformat": 4,
  "nbformat_minor": 0,
  "metadata": {
    "kernelspec": {
      "display_name": "Python 3",
      "language": "python",
      "name": "python3"
    },
    "language_info": {
      "codemirror_mode": {
        "name": "ipython",
        "version": 3
      },
      "file_extension": ".py",
      "mimetype": "text/x-python",
      "name": "python",
      "nbconvert_exporter": "python",
      "pygments_lexer": "ipython3",
      "version": "3.7.6"
    },
    "colab": {
      "name": " CSE110 Lab Assignment 4_mine.ipynb",
      "provenance": [],
      "collapsed_sections": [],
      "include_colab_link": true
    }
  },
  "cells": [
    {
      "cell_type": "markdown",
      "metadata": {
        "id": "view-in-github",
        "colab_type": "text"
      },
      "source": [
        "<a href=\"https://colab.research.google.com/github/msayeshasiddikatonny/CSE110_python_labs/blob/main/CSE110_Lab_Assignment_4_mine.ipynb\" target=\"_parent\"><img src=\"https://colab.research.google.com/assets/colab-badge.svg\" alt=\"Open In Colab\"/></a>"
      ]
    },
    {
      "cell_type": "markdown",
      "metadata": {
        "id": "xDNsncrtU1yM"
      },
      "source": [
        "# CSE110 Lab Assignment 4\n",
        "\n",
        "This Assignment is to help you develop your concept of Lists in Python."
      ]
    },
    {
      "cell_type": "markdown",
      "metadata": {
        "id": "gh4GUDaIU1yO"
      },
      "source": [
        "\n",
        "\n",
        "\n",
        "\n",
        "\n",
        "\n",
        "##Write your name, student ID and CSE110 theory section number below:\n",
        "\n",
        "\n",
        "\n",
        "\n",
        "\n"
      ]
    },
    {
      "cell_type": "code",
      "metadata": {
        "id": "OAYfzLIqgqyE"
      },
      "source": [
        "#STUDENT NAME:\n",
        "#STUDENT ID:\n",
        "#CSE110 THEORY SECTION: "
      ],
      "execution_count": null,
      "outputs": []
    },
    {
      "cell_type": "markdown",
      "metadata": {
        "id": "KD4EKJf6U1yQ"
      },
      "source": [
        "## Write the code in Python to do the following tasks:\n",
        "\n",
        "**<font color='red'>[MUST MAINTAIN VARIABLE NAMING CONVENTIONS FOR ALL THE TASKS]</font>**"
      ]
    },
    {
      "cell_type": "markdown",
      "metadata": {
        "id": "pbdeIVcyU1yi"
      },
      "source": [
        "### Task 1\n",
        "Write a Python program that reads 10 numbers from the user into a list. After reading each number, print all the numbers that have been entered so far in the list. \n",
        "\n",
        "**Example:**\\\n",
        "After the user enters 3, prints “Numbers in the list: [3]”\\\n",
        "After the user enters 5, prints “Numbers in the list: [3, 5]”\\\n",
        "After the user enters 34, prints “Numbers in the list: [3, 5, 34]”\\\n",
        ".... and so on"
      ]
    },
    {
      "cell_type": "code",
      "metadata": {
        "id": "A5df9pmJU1yj",
        "colab": {
          "base_uri": "https://localhost:8080/"
        },
        "outputId": "111b980b-8096-43e2-8df3-fc7f923e612a"
      },
      "source": [
        "#to do\n",
        "l=[]\n",
        "for i in range(0,10):\n",
        "  n=int(input(\"enter number\"))\n",
        "  l.append(n)\n",
        "  print(\"Numbers in the list:\",end='')\n",
        "  print(l)\n"
      ],
      "execution_count": null,
      "outputs": [
        {
          "output_type": "stream",
          "text": [
            "enter number1\n",
            "Numbers in the list:[1]\n",
            "enter number2\n",
            "enter number3\n",
            "Numbers in the list:[1, 2]\n",
            "Numbers in the list:[1, 2, 3]\n",
            "enter number4\n",
            "Numbers in the list:[1, 2, 3, 4]\n",
            "enter number5\n",
            "Numbers in the list:[1, 2, 3, 4, 5]\n",
            "enter number6\n",
            "Numbers in the list:[1, 2, 3, 4, 5, 6]\n",
            "enter number7\n",
            "Numbers in the list:[1, 2, 3, 4, 5, 6, 7]\n",
            "enter number8\n",
            "Numbers in the list:[1, 2, 3, 4, 5, 6, 7, 8]\n",
            "enter number9\n",
            "Numbers in the list:[1, 2, 3, 4, 5, 6, 7, 8, 9]\n",
            "enter number5\n",
            "Numbers in the list:[1, 2, 3, 4, 5, 6, 7, 8, 9, 5]\n"
          ],
          "name": "stdout"
        }
      ]
    },
    {
      "cell_type": "markdown",
      "metadata": {
        "id": "ZrjtT-I_U1zD"
      },
      "source": [
        "### Task 2\n",
        "\n",
        "Write a Python program that takes a list as an input from the user.Then creates a new list excluding the first and last two elements of the given list and prints the new list. If there are not enough elements in the list to do the task, the print \"Not possible\".\n",
        "\n",
        "**Note:** You may use list slicing.\n",
        "\n",
        "===================================================================\n",
        "\n",
        "**Sample Input 1:**<br/>\n",
        "[10, 20, 24, 25, 26, 35, 70]<br/>\n",
        "**Sample Output 1:**<br/>\n",
        "[24, 25, 26]<br/>\n",
        "\n",
        "===================================================================\n",
        "\n",
        "**Sample Input 2:**<br/>\n",
        "[10, 20, 24, 25, 26]<br/>\n",
        "**Sample Output 2:**<br/>\n",
        "[24]<br/>\n",
        "\n",
        "===================================================================\n",
        "\n",
        "**Sample Input 3:**<br/>\n",
        "[10, 20, 24, 25]<br/>\n",
        "**Sample Output 3:**<br/>\n",
        "[]<br/>\n",
        "\n",
        "===================================================================\n",
        "\n",
        "**Sample Input 4:**<br/>\n",
        "[10, 20, 24]<br/>\n",
        "**Sample Output 4:**<br/>\n",
        "Not possible<br/>\n",
        "\n",
        "==================================================================="
      ]
    },
    {
      "cell_type": "code",
      "metadata": {
        "id": "3r7Ripj7U1zE",
        "colab": {
          "base_uri": "https://localhost:8080/"
        },
        "outputId": "8d29f07a-727d-4b38-c10b-c4debcdecd07"
      },
      "source": [
        "#to do\n",
        "l=[10, 20, 24, 25, 26, 35, 70]\n",
        "l1=[]\n",
        "if len(l)>3:\n",
        "  l1=l[2:-2]\n",
        "  print(l1)\n",
        "elif len(l)<4:\n",
        "  print('Not Possible')\n"
      ],
      "execution_count": 6,
      "outputs": [
        {
          "output_type": "stream",
          "text": [
            "[24, 25, 26]\n"
          ],
          "name": "stdout"
        }
      ]
    },
    {
      "cell_type": "markdown",
      "metadata": {
        "id": "AWgZaBZCzmaM"
      },
      "source": [
        "### Task 3\n",
        "\n",
        "Write a python program that reads 5 numbers from the user into a list, and then prints them in the reverse order.\n",
        "\n",
        "*Hint: You may create a list to store the input numbers and then use loop to print them in reverse order*\n",
        "\n",
        "===================================================================\n",
        "\n",
        "**Sample Input:**\\\n",
        "5\\\n",
        "-5\\\n",
        "100\\\n",
        "1\\\n",
        "0\n",
        "\n",
        "**Sample Output:**\\\n",
        "0\\\n",
        "1\\\n",
        "100\\\n",
        "-5\\\n",
        "5\n",
        "\n",
        "==================================================================="
      ]
    },
    {
      "cell_type": "code",
      "metadata": {
        "id": "ICW-03YOznTp",
        "colab": {
          "base_uri": "https://localhost:8080/"
        },
        "outputId": "2220e12c-0ac7-4ec7-9cdd-f722c1dbffdf"
      },
      "source": [
        "#to do\n",
        "l=[]\n",
        "for i in range(0,5):\n",
        "  n=int(input(\"enter number\"))\n",
        "  l.append(n)\n",
        "for i in range(len(l)-1,-1,-1):\n",
        "  print(l[i])\n",
        "\n"
      ],
      "execution_count": null,
      "outputs": [
        {
          "output_type": "stream",
          "text": [
            "enter number5\n",
            "enter number-5\n",
            "enter number100\n",
            "enter number1\n",
            "enter number0\n",
            "0\n",
            "1\n",
            "100\n",
            "-5\n",
            "5\n"
          ],
          "name": "stdout"
        }
      ]
    },
    {
      "cell_type": "markdown",
      "metadata": {
        "id": "7a_1pYjfU1zI"
      },
      "source": [
        "### Task 4\n",
        "Assume, you have been given two lists. [Your program should work for any two given lists; change the following lists and check whether your program works correctly for the code you have written]\n",
        "\n",
        "list_one = [1, 2, 3, 4, 5, 6, 7, 8, 9]\\\n",
        "list_two = [10, 11, 12, -13, -14, -15, -16]\n",
        "\n",
        "Write a Python program that creates a new list with all the **even elements** of both of the given lists and prints the new list.\n",
        "\n",
        "**Hint:** You may create a third list to store the even elements of the given lists.\n",
        "\n",
        "===================================================================\n",
        "\n",
        "**Output for the above lists:** [2, 4, 6, 8, 10, 12, -14, -16]\n",
        "\n",
        "==================================================================="
      ]
    },
    {
      "cell_type": "code",
      "metadata": {
        "id": "vToa7yazU1zI",
        "colab": {
          "base_uri": "https://localhost:8080/"
        },
        "outputId": "2826af07-daab-43d3-f083-2887759f658f"
      },
      "source": [
        "#to do\n",
        "list_one = [1, 2, 3, 4, 5, 6, 7, 8, 9]\n",
        "list_two = [10, 11, 12, -13, -14, -15, -16]\n",
        "l=[]\n",
        "for i in list_one:\n",
        "  if i%2==0:\n",
        "    l.append(i)\n",
        "for i in list_two:\n",
        "  if i%2==0:\n",
        "    l.append(i)\n",
        "print(l)"
      ],
      "execution_count": null,
      "outputs": [
        {
          "output_type": "stream",
          "text": [
            "[2, 4, 6, 8, 10, 12, -14, -16]\n"
          ],
          "name": "stdout"
        }
      ]
    },
    {
      "cell_type": "markdown",
      "metadata": {
        "id": "QaD4hLn92EKT"
      },
      "source": [
        "### Task 5\n",
        "\n",
        "Write a Python program that takes numbers as input into a list, removes multiple occurences of any number and then finally prints a list **without duplicate values**.\n",
        "\n",
        "*Hint: You may create a third list to store the results. You can use membership operators (in, not in) to make sure no duplicates are added.*\n",
        "\n",
        "===================================================================\n",
        "\n",
        "**Sample Input 1:**<br/>\n",
        "0, 0, 1, 2, 3, 4, 4, 5, 6, 6, 6, 7, 8, 9, 4, 4<br/>\n",
        "\n",
        "\n",
        "**Sample Output 1:**<br/>\n",
        "[0, 1, 2, 3, 4, 5, 6, 7, 8, 9]<br/>\n",
        "\n",
        "===================================================================\n",
        "\n",
        "**Sample Input 2:**<br/>\n",
        "7, 7, 7, 1, 0, 3, 3, 55, 9<br/>\n",
        "\n",
        "\n",
        "**Sample Output 2:**<br/>\n",
        "[7, 1, 0, 3, 55, 9]<br/>\n",
        "\n",
        "==================================================================="
      ]
    },
    {
      "cell_type": "code",
      "metadata": {
        "id": "EUbQbz5hU1zP",
        "colab": {
          "base_uri": "https://localhost:8080/"
        },
        "outputId": "1b4b0e28-104f-4ccc-f806-318a02e0f2ea"
      },
      "source": [
        "#to do\n",
        "n=input(\"enter a line\").split(',')\n",
        "l=[]\n",
        "for i in n:\n",
        "  l.append(int(i))\n",
        "l2=[]\n",
        "for i in l:\n",
        "  if i not in l2:\n",
        "    l2.append(i)\n",
        "print(l2)"
      ],
      "execution_count": 7,
      "outputs": [
        {
          "output_type": "stream",
          "text": [
            "enter a line7, 7, 7, 1, 0, 3, 3, 55, 9\n",
            "[7, 1, 0, 3, 55, 9]\n"
          ],
          "name": "stdout"
        }
      ]
    },
    {
      "cell_type": "markdown",
      "metadata": {
        "id": "wfcSytFVU1zU"
      },
      "source": [
        "### Task 6\n",
        "\n",
        "Write a Python program that reads 5 numbers into a list and prints the largest number and its location or index position on the list. <font color='red'>[You are not allowed to use the max(), sort(), sorted() function here]</font>\n",
        "\n",
        "**Hint:** Assume the first input to be the largest value initially and the largest value’s location to be 0.\n",
        "\n",
        "**Note:** You may need to be careful while printing the output. Depending on your code, you might need data conversion.\n",
        "\n",
        "===================================================================\n",
        "\n",
        "**Sample Input:**\\\n",
        " 7, 13, 2, 10, 6\n",
        "\n",
        "**Sample Output:**\\\n",
        "My list: [7, 13, 2, 10, 6]\\\n",
        "Largest number in the list is 13 which was found at index 1.\n",
        "\n",
        "==================================================================="
      ]
    },
    {
      "cell_type": "code",
      "metadata": {
        "id": "kXbEh1t3U1zV",
        "colab": {
          "base_uri": "https://localhost:8080/"
        },
        "outputId": "35741b78-f75d-4eb9-be55-a8d624743d5a"
      },
      "source": [
        "#to do\n",
        "x1=input().split(\",\")\n",
        "x=[]\n",
        "for i in x1:\n",
        "     x.append(int(i))\n",
        "max= x[0]\n",
        "max_index=0\n",
        "for i in range(1,len(x)):\n",
        "\n",
        "     if  x[i]>max:\n",
        "         max=x[i]\n",
        "         max_index=i\n",
        "print(\"My list:\",x)\n",
        "print(\"Largest number in the list is\",max,\"which was found at index\",max_index)"
      ],
      "execution_count": 8,
      "outputs": [
        {
          "output_type": "stream",
          "text": [
            "7,13,2,10,6\n",
            "My list: [7, 13, 2, 10, 6]\n",
            "Largest number in the list is 13 which was found at index 1\n"
          ],
          "name": "stdout"
        }
      ]
    },
    {
      "cell_type": "markdown",
      "metadata": {
        "id": "nwRZ3_0tC3fq"
      },
      "source": [
        "### Task 7\n",
        "\n",
        "\n",
        "Assume, you have been given two lists. [Your program should work for any two given lists; make changes to the lists below and check whether your program works correctly]\n",
        "\n",
        "list_one = [1, 2 , 2, 4, 5, 5, 7, 99, 200, 303, 70]\\\n",
        "list_two = [1, 1, 2, 3, 3, 3, 4, 5, 200, 500, -5]\n",
        "\n",
        "Write a Python program that creates a new list with all the **unique elements** of both the given lists. \n",
        "<font color='red'> **You need to make sure that there are no duplicates in the resulting list.**</font> Finally, print the updated list.\n",
        "\n",
        "**Hint:** You may create a third list to store the results. You can use membership operators (in, not in) to make sure no duplicates are added.\n",
        "\n",
        "===================================================================\n",
        "\n",
        "**Output for the above two lists**: \n",
        "[1, 2, 4, 5, 7, 99, 200, 303, 70, 3, 500, -5]\n",
        "\n",
        "===================================================================\n",
        "\n"
      ]
    },
    {
      "cell_type": "code",
      "metadata": {
        "id": "LEnaTlyoMJdS",
        "colab": {
          "base_uri": "https://localhost:8080/"
        },
        "outputId": "7265aa3f-5358-4030-cfb1-4c72aad17a33"
      },
      "source": [
        "#to do\n",
        "list_one = [1, 2 , 2, 4, 5, 5, 7, 99, 200, 303, 70]\n",
        "list_two = [1, 1, 2, 3, 3, 3, 4, 5, 200, 500, -5]\n",
        "list_three=[]\n",
        "for i in list_one:\n",
        "  if i not in list_three:\n",
        "    list_three.append(i)\n",
        "for i in list_two:\n",
        "  if i not in list_three:\n",
        "    list_three.append(i)\n",
        "print(list_three)\n"
      ],
      "execution_count": null,
      "outputs": [
        {
          "output_type": "stream",
          "text": [
            "[1, 2, 4, 5, 7, 99, 200, 303, 70, 3, 500, -5]\n"
          ],
          "name": "stdout"
        }
      ]
    },
    {
      "cell_type": "markdown",
      "metadata": {
        "id": "bvF30RQlemBW"
      },
      "source": [
        "### Task 8\n",
        "\n",
        "Write a Python function that takes two lists and returns True if they have at least one common member.\n",
        "\n",
        "===================================================================\n",
        "\n",
        "**Sample Input 1:**\\\n",
        "List_one : [1, 4, 3, 2, 6]\\\n",
        "List_two : [5, 6, 9, 8, 7]\n",
        "\n",
        "**Sample Output 1:**\\\n",
        "True\n",
        "\n",
        "===================================================================\n",
        "\n",
        "**Sample Input 2:**\\\n",
        "List_one : [1, 4, 3, 2, 5]\\\n",
        "List_two : [8, 7, 6, 9]\n",
        "\n",
        "**Sample Output 2:**\\\n",
        "False\n",
        "\n",
        "===================================================================\n"
      ]
    },
    {
      "cell_type": "code",
      "metadata": {
        "id": "yIlAlqlGe7IA",
        "colab": {
          "base_uri": "https://localhost:8080/"
        },
        "outputId": "6bb495e2-a00e-40fc-9a29-75183ae1da3e"
      },
      "source": [
        "#to do\n",
        "List_one = [1, 4, 3, 2, 6]\n",
        "List_two= [5, 6, 9, 8, 7]\n",
        "flag=0\n",
        "for i in List_one:#1\n",
        "  if i in List_two:\n",
        "    flag=1\n",
        "    break\n",
        "  else:\n",
        "    pass\n",
        "if flag==1:\n",
        "  print(\"True\") \n",
        "else:\n",
        "  print(\"False\")\n"
      ],
      "execution_count": null,
      "outputs": [
        {
          "output_type": "stream",
          "text": [
            "True\n"
          ],
          "name": "stdout"
        }
      ]
    },
    {
      "cell_type": "markdown",
      "metadata": {
        "id": "vyFt-Ra5erR4"
      },
      "source": [
        "### Task 9\n",
        "\n",
        "Write a Python program that reads 10 numbers into a list and prints the numbers of that specified list after removing **even numbers** from it.\n",
        "\n",
        "=========================================================================\n",
        "\n",
        "**Sample Input:**\n",
        "\n",
        "[7 12 4 55 96 2 11 61 33 42]\n",
        "\n",
        "**Sample Output:**\n",
        "\n",
        "[7 55 11 61 33]\n",
        "\n",
        "=========================================================================\n",
        "\n",
        "\n",
        "\n"
      ]
    },
    {
      "cell_type": "code",
      "metadata": {
        "id": "1U3bswq9e9B3",
        "colab": {
          "base_uri": "https://localhost:8080/"
        },
        "outputId": "3fef656b-6dbe-4587-eaea-676e63002329"
      },
      "source": [
        "#to do\n",
        "l=[]#input store\n",
        "for i in range(10):\n",
        "  num = int(input(\"enter a number\") )\n",
        "  l.append(num)\n",
        " \n",
        "odd=[]\n",
        "for i in (l):\n",
        "  if i%2!=0:# odd kina\n",
        "    odd.append(i)\n",
        "print(odd)"
      ],
      "execution_count": 13,
      "outputs": [
        {
          "output_type": "stream",
          "text": [
            "enter a number7\n",
            "enter a number12\n",
            "enter a number4\n",
            "enter a number55\n",
            "enter a number96\n",
            "enter a number2\n",
            "enter a number11\n",
            "enter a number61\n",
            "enter a number33\n",
            "enter a number42\n",
            "[7, 55, 11, 61, 33]\n"
          ],
          "name": "stdout"
        }
      ]
    },
    {
      "cell_type": "markdown",
      "metadata": {
        "id": "G9jPuLWOetqd"
      },
      "source": [
        "### Task 10\n",
        "\n",
        "Write a Python program to remove **Empty strings** from a given list of strings taken as input from the user.\n",
        "\n",
        "=========================================================================\n",
        "\n",
        "**Sample Input:**\n",
        "\n",
        "[\"hey\", \"there\", \" \", \"what's\", \" \", \"up\", \" \", \"?\"]\n",
        "\n",
        "**Sample Output:**\n",
        "\n",
        "[\"hey\",\"there\",\"what's\",\"up\",\"?\"]\n",
        "\n",
        "==========================================================================\n",
        "\n",
        "\n"
      ]
    },
    {
      "cell_type": "code",
      "metadata": {
        "id": "OlrhifBge-TA",
        "colab": {
          "base_uri": "https://localhost:8080/"
        },
        "outputId": "4e6b29e4-1e91-452e-8dd9-a4ef9d6f3230"
      },
      "source": [
        "#to do\n",
        " \n",
        "n=int(input(\"enter how many elements: \"))\n",
        "l=[]\n",
        "for i in range(n):\n",
        "     s=input(\"enter the element: \")\n",
        "     l.append(s)\n",
        "print(\"Original List: \",l)\n",
        "l2=[]\n",
        "for i in l:\n",
        "  if i !=\"\":\n",
        "     l2.append(i)\n",
        "print(\"Modified List:\",l2)\n",
        " "
      ],
      "execution_count": 10,
      "outputs": [
        {
          "output_type": "stream",
          "text": [
            "enter how many elements: 8\n",
            "enter the element: hey\n",
            "enter the element: there\n",
            "enter the element: \n",
            "enter the element: what's\n",
            "enter the element: \n",
            "enter the element: up\n",
            "enter the element: \n",
            "enter the element: ?\n",
            "Original List:  ['hey', 'there', '', \"what's\", '', 'up', '', '?']\n",
            "Modified List: ['hey', 'there', \"what's\", 'up', '?']\n"
          ],
          "name": "stdout"
        }
      ]
    },
    {
      "cell_type": "markdown",
      "metadata": {
        "id": "UjTy79X6ewce"
      },
      "source": [
        "## Task 11\n",
        "\n",
        "Write a Python program that replaces the last element of first list with second list.\n",
        "\n",
        "===================================================================\n",
        "\n",
        "**Sample Input 1:**\\\n",
        "List_one : [1, 4, 7, 5]\\\n",
        "List_two : [6, 1, 3, 9]\n",
        "\n",
        "**Sample Output 1:**\\\n",
        "[1, 4, 7, 6, 1, 3, 9]\n",
        "\n",
        "===================================================================\n",
        "\n",
        "**Sample Input 2:**\\\n",
        "List_one : [1, 3, 5, 7, 9, 10]\\\n",
        "List_two : [2, 4, 6, 8]\n",
        "\n",
        "**Sample Output 2:**\\\n",
        "[1, 3, 5, 7, 9, 2, 4, 6, 8]\n",
        "\n",
        "===================================================================\n",
        "\n",
        "\n",
        "\n"
      ]
    },
    {
      "cell_type": "code",
      "metadata": {
        "id": "bBseKJuse_bX",
        "colab": {
          "base_uri": "https://localhost:8080/"
        },
        "outputId": "e8ddb25e-a6f2-4679-933c-8e7c672d9a2e"
      },
      "source": [
        "#to do\n",
        "List_one=[1, 4, 7, 5]\n",
        "List_two = [6, 1, 3, 9]\n",
        "List_three=[]\n",
        "for i in range(0,len(List_one)-1):\n",
        "  List_three.append(List_one[i])\n",
        "for i in List_two:\n",
        "  List_three.append(i)\n",
        "print(List_three)"
      ],
      "execution_count": 11,
      "outputs": [
        {
          "output_type": "stream",
          "text": [
            "[1, 4, 7, 6, 1, 3, 9]\n"
          ],
          "name": "stdout"
        }
      ]
    },
    {
      "cell_type": "markdown",
      "metadata": {
        "id": "4pBLPmvre0jv"
      },
      "source": [
        "### Task 12\n",
        "\n",
        "Write a Python program that turns every item of a list into its square.\n",
        "\n",
        "===================================================================\n",
        "\n",
        "**Sample Input 1:**\\\n",
        "[1, 2, 3, 4, 5, 6, 7]\n",
        "\n",
        "**Sample Output 1:**\\\n",
        "[1, 4, 9, 16, 25, 36, 49]\n",
        "\n",
        "===================================================================\n",
        "\n",
        "**Sample Input 2:**\\\n",
        "[3, 5, 1, 6]\n",
        "\n",
        "**Sample Output 2:**\\\n",
        "[9, 25, 1, 36]\n",
        "\n",
        "\n",
        "===================================================================\n",
        "\n",
        "\n",
        "\n",
        "\n",
        "\n"
      ]
    },
    {
      "cell_type": "code",
      "metadata": {
        "id": "5NDg0odDfANt",
        "colab": {
          "base_uri": "https://localhost:8080/"
        },
        "outputId": "1cc896ea-1c81-43f2-dc9b-ea5e84be6d8d"
      },
      "source": [
        "#to do\n",
        "l=[1, 2, 3, 4, 5, 6, 7]\n",
        "sq_list=[]\n",
        "for i in l:\n",
        "  sq_list.append(i**2)\n",
        "print(sq_list)"
      ],
      "execution_count": 14,
      "outputs": [
        {
          "output_type": "stream",
          "text": [
            "[1, 4, 9, 16, 25, 36, 49]\n"
          ],
          "name": "stdout"
        }
      ]
    },
    {
      "cell_type": "markdown",
      "metadata": {
        "id": "WZXnxHTdGrMC"
      },
      "source": [
        "## Optional Tasks (13-15) [Ungraded]"
      ]
    },
    {
      "cell_type": "markdown",
      "metadata": {
        "id": "lvSiLaobU1zY"
      },
      "source": [
        "### Task 13\n",
        "\n",
        "Write a Python program that reads 5 numbers into a list and prints the smallest and largest number and their locations in the list. <font color='red'>[You are not allowed to use the max(), min(), sort(), sorted() functions here]</font>\n",
        "\n",
        "**Hint:** You may assume the first input to be the largest value initially and the largest value’s location to be 0. Similarly, you can assume the first input to be the smallest value initially and the smallest value’s location to be 0. \n",
        "\n",
        "**Note:** You may need to be careful while printing the output. Depending on your code, you might need data conversion.\n",
        "\n",
        "===================================================================\n",
        "\n",
        "**Sample Input:**\\\n",
        "7, 13, -5, 10, 6\n",
        "\n",
        "**Sample Output:**\\\n",
        "My list: [7, 13, -5, 10, 6]\\\n",
        "Smallest number in the list is -5 which was found at index 2\\\n",
        "Largest number in the list is 13 which was found at index 1\n",
        "\n",
        "==================================================================="
      ]
    },
    {
      "cell_type": "code",
      "metadata": {
        "id": "yiS5TWSDU1zY",
        "colab": {
          "base_uri": "https://localhost:8080/"
        },
        "outputId": "7d8ec618-4f20-477d-eb6d-0c371e938afa"
      },
      "source": [
        "#to do\n",
        "x1=input().split(\",\")\n",
        "x=[]\n",
        "for i in x1:\n",
        "     x.append(int(i))\n",
        "max= x[0]\n",
        "max_index=0\n",
        "min=x[0]\n",
        "min_index=0\n",
        "for i in range(1,len(x)):\n",
        "\n",
        "     if  x[i]>max:\n",
        "         max=x[i]\n",
        "         max_index=i\n",
        "     elif x[i]<min:\n",
        "         min=x[i]\n",
        "         min_index=i\n",
        "print(\"My list:\",x)\n",
        "print(\"Smallest number in the list is\",min,\"which was found at index\",min_index)\n",
        "print(\"Largest number in the list is\",max,\"which was found at index\",max_index)\n"
      ],
      "execution_count": 15,
      "outputs": [
        {
          "output_type": "stream",
          "text": [
            "7, 13, -5, 10, 6\n",
            "My list: [7, 13, -5, 10, 6]\n",
            "Smallest number in the list is -5 which was found at index 2\n",
            "Largest number in the list is 13 which was found at index 1\n"
          ],
          "name": "stdout"
        }
      ]
    },
    {
      "cell_type": "markdown",
      "metadata": {
        "id": "rguDZ8SBCHD8"
      },
      "source": [
        "### Task 14\n",
        "Write a Python program that takes two lists as an input from the user. Then print a new list with the **common elements** of both the input lists. \n",
        "\n",
        "*Hint: You may need to create a third list to store the results. You can use membership operators (in, not in) to make sure similar elements are added.*\n",
        "\n",
        "===================================================================\n",
        "\n",
        "**Sample Input 1:**<br/>\n",
        "A,B,C,D\n",
        "\n",
        "\n",
        "C,E,F,B\n",
        "\n",
        "\n",
        "**Sample Output 1:**<br/>\n",
        "['C', 'B']\n",
        "\n",
        "===================================================================\n",
        "\n",
        "**Sample Input 2:**<br/>\n",
        "1,3,A,H,P\n",
        "\n",
        "\n",
        "A,G,1,P,O\n",
        "\n",
        "\n",
        "**Sample Output 2:**<br/>\n",
        "['1', 'A', 'P']\n",
        "\n",
        "===================================================================\n"
      ]
    },
    {
      "cell_type": "code",
      "metadata": {
        "id": "3iueGiPPGG66",
        "colab": {
          "base_uri": "https://localhost:8080/"
        },
        "outputId": "3b7a766f-5f26-4ea8-bafb-9a9df088c27b"
      },
      "source": [
        "# to do\n",
        "input_list1= input(\"Enter the first list: \").split(\",\")\n",
        "input_list2= input(\"Enter the second list: \").split(\",\")\n",
        "\n",
        "list1=[i for i in input_list1]\n",
        "list2=[j for j in input_list2]\n",
        "print(list1)\n",
        "print(list2)\n",
        "output_list=[]\n",
        "\n",
        "for element in list1:\n",
        "  if element in list2:\n",
        "    output_list.append(element)\n",
        "    #print(output_list)\n",
        "\n",
        "\n",
        "\n",
        "\n",
        "print (output_list)"
      ],
      "execution_count": 16,
      "outputs": [
        {
          "output_type": "stream",
          "text": [
            "Enter the first list: 1,3,A,H,P\n",
            "Enter the second list: A,G,1,P,O\n",
            "['1', '3', 'A', 'H', 'P']\n",
            "['A', 'G', '1', 'P', 'O']\n",
            "['1', 'A', 'P']\n"
          ],
          "name": "stdout"
        }
      ]
    },
    {
      "cell_type": "markdown",
      "metadata": {
        "id": "tjcE5oitCM2s"
      },
      "source": [
        "### Task 15\n",
        "\n",
        "\n",
        "Write a Python program that reads 5 numbers into a list and prints the second largest number and its location or index position on the list. <font color='red'>[You are not allowed to use the max(), sort(), sorted() function here]</font>\n",
        "\n",
        "===================================================================\n",
        "\n",
        "**Sample Input:**\\\n",
        " 7, 13, 2, 10, 6\n",
        "\n",
        "**Sample Output:**\\\n",
        "My list: [7, 13, 2, 10, 6]\\\n",
        "Second largest number in the list is 10 which was found at index 3.\n",
        "\n",
        "==================================================================="
      ]
    },
    {
      "cell_type": "code",
      "metadata": {
        "id": "b2TwkUqnGZU-",
        "colab": {
          "base_uri": "https://localhost:8080/"
        },
        "outputId": "76571197-e877-414d-9587-19691fb3bd62"
      },
      "source": [
        "# to do\n",
        "x1=input().split(\",\")\n",
        "x=[]\n",
        "for i in x1:\n",
        "     x.append(int(i))\n",
        "max= x[0]\n",
        "max_index=0\n",
        "for i in range(1,len(x)):\n",
        "\n",
        "     if  x[i]>max:\n",
        "         max=x[i]\n",
        "         max_index=i\n",
        "Second_max= x[0]\n",
        "Second_max_index=0\n",
        "for i in range(1,len(x)):\n",
        "    if i!=max_index and max!=x[i]:\n",
        "     if  x[i]>Second_max:\n",
        "         Second_max=x[i]\n",
        "         Second_max_index=i\n",
        "print(\"Second largest number in the list is\",Second_max,\"which was found at index\",Second_max_index)"
      ],
      "execution_count": 17,
      "outputs": [
        {
          "output_type": "stream",
          "text": [
            "7, 13, 2, 10, 6\n",
            "Second largest number in the list is 10 which was found at index 3\n"
          ],
          "name": "stdout"
        }
      ]
    }
  ]
}