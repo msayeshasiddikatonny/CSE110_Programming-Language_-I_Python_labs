{
  "nbformat": 4,
  "nbformat_minor": 0,
  "metadata": {
    "colab": {
      "name": "CSE110_assessment2.ipynb",
      "provenance": [],
      "authorship_tag": "ABX9TyNAyIqfKAgyqXOf1+DW9DJP",
      "include_colab_link": true
    },
    "kernelspec": {
      "name": "python3",
      "display_name": "Python 3"
    },
    "language_info": {
      "name": "python"
    }
  },
  "cells": [
    {
      "cell_type": "markdown",
      "metadata": {
        "id": "view-in-github",
        "colab_type": "text"
      },
      "source": [
        "<a href=\"https://colab.research.google.com/github/msayeshasiddikatonny/CSE110_python_labs/blob/main/CSE110_assessment2.ipynb\" target=\"_parent\"><img src=\"https://colab.research.google.com/assets/colab-badge.svg\" alt=\"Open In Colab\"/></a>"
      ]
    },
    {
      "cell_type": "markdown",
      "metadata": {
        "id": "06IKlsV-amMf"
      },
      "source": [
        "Assume, you have been given two lists. Your task is to multiply the first element of the first list, to the last element of the second list and store them in another list. Then, again multiply the second element of the first list, to the second last element of the second list and so on.\n",
        "\n",
        "If any of your list is out of element, and another list has some elements remaining, then just append the remaining elements to your final list and print the list.\\\n",
        "Sample Input 1: list_one = [1, 4, 7, 5] \\\n",
        "list_two = [6, 1, 3, 9] \\\n",
        "Sample Output 1: [9, 12, 7, 30]\n",
        "\n",
        "Explanation 01: Here, from list_one’s 1st element, 1 has been multiplied with the last element of list_two 9. So, the product 1X9 =9 has been added to the answer. Then, from list_one’s 2nd element, 4 has been multiplied with the 2nd last element of list_two 3. So, the product 3X4 =12 has been added to the answer. And so on.\n",
        "Explanation 02: Here, list_one has additional elements 8, 2 , 5 at the end. So, after adding the multiplied values, the additional elements have been appended to the answer list.\n",
        "\n",
        "Sample Input 3:\\\n",
        " list_one = [6, 1, 3, 9] \\\n",
        " list_two = [1, 4, 7, 5 , 8, 2 , 5 ] \\\n",
        " Sample Output 3: [30, 2, 24, 45, 1, 4, 7]\\\n",
        "Explanation 03: Here, list_two has additional elements 1, 4, 7, at the beginning. So, after adding the multiplied values, the additional elements have been appended to the answer list."
      ]
    },
    {
      "cell_type": "code",
      "metadata": {
        "colab": {
          "base_uri": "https://localhost:8080/"
        },
        "id": "pyfLQlN4bCcC",
        "outputId": "95e44ab7-55ce-42d0-c7ee-b57f656cbc19"
      },
      "source": [
        "list_1 = [1, 4, 7, 5]    \n",
        "list_2 = [6, 1, 3, 9, 1, 1, 0] \n",
        "list_3 = []\n",
        "if len(list_1)==len(list_2):\n",
        "    for i in range(0,len(list_1)):\n",
        "       a = list_1[i] * list_2[-(i+1)] \n",
        "       list_3.append(a)\n",
        "if len(list_1)> len(list_2):\n",
        "  for i in range(0,len(list_2)):\n",
        "    a = list_1[i] * list_2[-(i+1)] \n",
        "    list_3.append(a)\n",
        "  for j in range(len(list_2),len(list_1)):\n",
        "      list_3.append(list_1[j])\n",
        "if len(list_2)> len(list_1):\n",
        "  count=len(list_2)-1#7-1=6\n",
        " \n",
        "  for i in range(0,len(list_1)):\n",
        "    a = list_1[i] * list_2[count] \n",
        "    list_3.append(a)\n",
        "    count-=1 \n",
        "  \n",
        "  for j in range(count, -1,-1):\n",
        "      list_3.append(list_2[j])     \n",
        "print(list_3)"
      ],
      "execution_count": 2,
      "outputs": [
        {
          "output_type": "stream",
          "text": [
            "[0, 4, 7, 45, 3, 1, 6]\n"
          ],
          "name": "stdout"
        }
      ]
    },
    {
      "cell_type": "markdown",
      "metadata": {
        "id": "iDHXjjkTbV4w"
      },
      "source": [
        "𝗤𝘂𝗲𝘀𝘁𝗶𝗼𝗻:\n",
        "Write a python program that will take a sentence as an input from the user \n",
        "where each word is separated by a space. Your task is to print the words \n",
        "present in the sentence in a list format and finally print the sentence by \n",
        "reversing each word.\\\n",
        "[You are NOT allowed to use built-in reverse() or reversed()]\\\n",
        "\n",
        "Sample Input 1:\\\n",
        "This is the list quiz\\\n",
        "Sample Output 1:\\\n",
        "['This', 'is', 'the', 'list', 'quiz']\\\n",
        "sihT si eht tsil ziuq\n",
        "\n",
        "Explanation 01: Here, we have 5 words in the given sentence separated by \n",
        "space. Then, those words have been printed in list format. Then each word \n",
        "had been reversed and printed in the string format. “sihT’ is the reverse \n",
        "of  'This' and so on.\n",
        "\n",
        "Sample Input2:\\\n",
        "CSE110 is the first course of CSE\\\n",
        "Sample Output 2:\\\n",
        "['CSE110', 'is', 'the', 'first', 'course', 'of', 'CSE']\\\n",
        "011ESC si eht tsrif esruoc fo ESC\n",
        "\n",
        "Explanation 02: Here, we have 7 words in the given sentence separated by \n",
        "space. Then, those words have been printed in list format. Then each word \n",
        "had been reversed and printed in the string format. “011ESC’ is the reverse \n",
        "of  'CSE110' and so on.\n"
      ]
    },
    {
      "cell_type": "code",
      "metadata": {
        "colab": {
          "base_uri": "https://localhost:8080/"
        },
        "id": "RMeojRzQbs9j",
        "outputId": "769ae98d-a62f-475f-a687-40350c8ef4d3"
      },
      "source": [
        "s=input(\"enter a sentence\").split(\" \")\n",
        "print(s)\n",
        "for i in s:\n",
        "     \n",
        "    for j in range(len(i)-1,-1,-1):\n",
        "         \n",
        "        if j!=0:\n",
        "             \n",
        "            print(i[j],end= \"\")\n",
        "        else:\n",
        "            print(i[j],end= \" \")"
      ],
      "execution_count": 3,
      "outputs": [
        {
          "output_type": "stream",
          "text": [
            "enter a sentenceCSE110 is the first course of CSE\n",
            "['CSE110', 'is', 'the', 'first', 'course', 'of', 'CSE']\n",
            "011ESC si eht tsrif esruoc fo ESC "
          ],
          "name": "stdout"
        }
      ]
    }
  ]
}