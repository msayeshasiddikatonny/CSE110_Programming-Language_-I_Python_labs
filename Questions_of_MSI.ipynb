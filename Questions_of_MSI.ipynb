{
  "nbformat": 4,
  "nbformat_minor": 0,
  "metadata": {
    "kernelspec": {
      "display_name": "Python 3",
      "language": "python",
      "name": "python3"
    },
    "language_info": {
      "codemirror_mode": {
        "name": "ipython",
        "version": 3
      },
      "file_extension": ".py",
      "mimetype": "text/x-python",
      "name": "python",
      "nbconvert_exporter": "python",
      "pygments_lexer": "ipython3",
      "version": "3.7.3"
    },
    "colab": {
      "name": " Questions of MSI.ipynb",
      "provenance": [],
      "collapsed_sections": [],
      "include_colab_link": true
    }
  },
  "cells": [
    {
      "cell_type": "markdown",
      "metadata": {
        "id": "view-in-github",
        "colab_type": "text"
      },
      "source": [
        "<a href=\"https://colab.research.google.com/github/msayeshasiddikatonny/CSE110_python_labs/blob/main/Questions_of_MSI.ipynb\" target=\"_parent\"><img src=\"https://colab.research.google.com/assets/colab-badge.svg\" alt=\"Open In Colab\"/></a>"
      ]
    },
    {
      "cell_type": "markdown",
      "metadata": {
        "id": "FLrce3vTedf0"
      },
      "source": [
        "**ASSIGNMENT 01**"
      ]
    },
    {
      "cell_type": "markdown",
      "metadata": {
        "id": "LBJRdkbUedf5"
      },
      "source": [
        "**QUESTION: 01**\n",
        "\n",
        "Write a python program that prints the following shape given with a given input.<br>\n",
        "\n",
        "**Input:**<br>\n",
        "3<br>\n",
        "**Output:**<br>\n",
        "+<br>\n",
        "&nbsp;&nbsp;++<br>\n",
        "&nbsp;&nbsp;&nbsp;&nbsp;+++<br>\n",
        "&nbsp;&nbsp;&nbsp;&nbsp;+++<br>\n",
        "&nbsp;&nbsp;++<br>\n",
        "+<br>\n",
        "\n",
        "**Input:**<br>\n",
        "5<br>\n",
        "**Output:**<br>\n",
        "+<br>\n",
        "&nbsp;&nbsp;++<br>\n",
        "&nbsp;&nbsp;&nbsp;&nbsp;+++<br>\n",
        "&nbsp;&nbsp;&nbsp;&nbsp;&nbsp;&nbsp;++++<br>\n",
        "&nbsp;&nbsp;&nbsp;&nbsp;&nbsp;&nbsp;&nbsp;&nbsp;+++++<br>\n",
        "&nbsp;&nbsp;&nbsp;&nbsp;&nbsp;&nbsp;&nbsp;&nbsp;+++++<br>\n",
        "&nbsp;&nbsp;&nbsp;&nbsp;&nbsp;&nbsp;++++<br>\n",
        "&nbsp;&nbsp;&nbsp;&nbsp;+++<br>\n",
        "&nbsp;&nbsp;++<br>\n",
        "+<br>\n",
        "\n",
        "-----------------------------------------------------------------------------------------------------------------------------"
      ]
    },
    {
      "cell_type": "code",
      "metadata": {
        "id": "7S3Bqes1nN0p",
        "colab": {
          "base_uri": "https://localhost:8080/"
        },
        "outputId": "54c9de25-c740-475b-e94a-21c81d9b97d2"
      },
      "source": [
        "n=int(input(\"enter a num\"))\n",
        "for i in range(1,n+1):\n",
        "  for j in range(0,i):\n",
        "    print(' ',end='')\n",
        "  for j in range(1,i+1):\n",
        "    if i==j:\n",
        "      print('+',end='\\n')\n",
        "    else:\n",
        "      print('+',end=\"\")\n",
        "for i in range(n,0,-1):\n",
        "  for j in range(i,0,-1):\n",
        "    print(' ',end='')\n",
        "  for j in range(i,0,-1):\n",
        "    if 1==j:\n",
        "      print('+',end='\\n')\n",
        "    else:\n",
        "      print('+',end=\"\")"
      ],
      "execution_count": null,
      "outputs": [
        {
          "output_type": "stream",
          "text": [
            "enter a num5\n",
            " +\n",
            "  ++\n",
            "   +++\n",
            "    ++++\n",
            "     +++++\n",
            "     +++++\n",
            "    ++++\n",
            "   +++\n",
            "  ++\n",
            " +\n"
          ],
          "name": "stdout"
        }
      ]
    },
    {
      "cell_type": "markdown",
      "metadata": {
        "id": "KR5fa20tedf6"
      },
      "source": [
        "**QUESTION: 02**<br>\n",
        "\n",
        "A Special Number is a number when sum of the factorial of digits is equal to the original number (given number). For example, 145 is a Special Number because 145 = 1! + 4! + 5! Write a python program, which takes a number and tells if it is a Special Number or not.<br>\n",
        "\n",
        "**Input:**<br>\n",
        "The input will be a positive integer number preceded by the following text: “Please enter a number:”. Then the user will proceed to give input.<br>\n",
        "\n",
        "**Output:**<br>\n",
        "Depending on the input, the program will print the following lines: “This is a Special Number.” if it is, otherwise, “This is NOT a Special number”. <br>\n",
        "\n",
        "**Sample Input** | **Sample Output**\n",
        ":---| :---\n",
        "Please enter a number: 2 | This is a Special Number.\n",
        "Please enter a number: 105 | This is NOT a Special Number.\n",
        "\n",
        "-------------------------------------------------------------------------------------------------------------------------------"
      ]
    },
    {
      "cell_type": "code",
      "metadata": {
        "colab": {
          "base_uri": "https://localhost:8080/"
        },
        "id": "jnIdUVFwriE0",
        "outputId": "e045644c-9592-4138-b8b3-36f721c60966"
      },
      "source": [
        "num=int(input(\"enter a number\"))\n",
        "n=num\n",
        "s=0\n",
        "while n>0:\n",
        "   prod=1\n",
        "   rem=n%10\n",
        "   n=n//10\n",
        "   #print(rem) \n",
        "   for i in range(1,rem+1):\n",
        "     prod*=i\n",
        "   s+=prod\n",
        "   #print(s)\n",
        "if s==num:\n",
        "  print(\"This is a Special Number.\")\n",
        "else:\n",
        "  print(\"This is NOT a Special Number.\")\n",
        "\n"
      ],
      "execution_count": null,
      "outputs": [
        {
          "output_type": "stream",
          "text": [
            "enter a number145\n",
            "5\n",
            "120\n",
            "4\n",
            "144\n",
            "1\n",
            "145\n",
            "This is a Special Number.\n"
          ],
          "name": "stdout"
        }
      ]
    },
    {
      "cell_type": "markdown",
      "metadata": {
        "id": "4setUtq7edf6"
      },
      "source": [
        "**ASSIGNMENT 2**"
      ]
    },
    {
      "cell_type": "markdown",
      "metadata": {
        "id": "NNm-GRMiedf7"
      },
      "source": [
        "**Question: 01**\n",
        "\n",
        "Write a python program that reads an input from the user where the input is a sequence of more than 1 character. Your task is to reverse the order of digits only.\n",
        "\n",
        "**Input:**<br>\n",
        "Abc123d89fds3\n",
        "\n",
        "**Output:**<br>\n",
        "Abc398d32fds1\n",
        "\n",
        "**Explanation:**<br>\n",
        "If you read the only digits from left to right, the sequence of the digits is 123893. When you print it back to the user you have to reverse the sequence of the digits to 398321. Carefully observe the output to understand better.\n",
        "\n",
        "--------------------------------------------------------------------------------------------------------------------"
      ]
    },
    {
      "cell_type": "markdown",
      "metadata": {
        "id": "EQ6KQ9_Kedf7"
      },
      "source": [
        "**QUESTION: 02**\n",
        "\n",
        "Write a program that takes an input from the user. The input is a sequence of characters. \n",
        "\n",
        "•\tFind the decimal value of each of the characters in the sequence, store in a list and then print the list.\n",
        "\n",
        "•\t Also, find the corresponding binary code for each of the decimal values in another list and print that list too.\n",
        "\n",
        "**Input:**<br>\n",
        "abc<br>\n",
        "**Output:**<br>\n",
        "[97, 98, 99]<br>\n",
        "['1100001', '1100010', '1100011']<br>\n"
      ]
    },
    {
      "cell_type": "code",
      "metadata": {
        "colab": {
          "base_uri": "https://localhost:8080/"
        },
        "id": "vFIGNoARuywH",
        "outputId": "df682b1d-6385-423f-f54b-387de2b05431"
      },
      "source": [
        "s=input(\"enter a string \")\n",
        "ascii_list=[]\n",
        "binary_list=[]\n",
        "for i in s:\n",
        "  n=ord(i)\n",
        "  ascii_list.append(n)\n",
        "  re=''\n",
        "  final_binary=''\n",
        "  while n>0:\n",
        "        rem=n%2\n",
        "        n=n//2\n",
        "        re=re+str(rem)\n",
        "  #binary_list.append(re)\n",
        "  for j in range (len(re)-1,-1,-1):\n",
        "        final_binary=final_binary+re[j]\n",
        "  binary_list.append(final_binary)\n",
        "print(ascii_list)\n",
        "print(binary_list)"
      ],
      "execution_count": null,
      "outputs": [
        {
          "output_type": "stream",
          "text": [
            "enter a stringabc\n",
            "[97, 98, 99]\n",
            "['1100001', '1100010', '1100011']\n"
          ],
          "name": "stdout"
        }
      ]
    }
  ]
}